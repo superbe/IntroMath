{
 "cells": [
  {
   "cell_type": "markdown",
   "metadata": {},
   "source": [
    "# Домашняя работа к уроку 7"
   ]
  },
  {
   "cell_type": "markdown",
   "metadata": {},
   "source": [
    "## Введение в высшую математику"
   ]
  },
  {
   "cell_type": "code",
   "execution_count": 1,
   "metadata": {},
   "outputs": [],
   "source": [
    "import numpy as np\n",
    "import matplotlib.pyplot as plt\n",
    "import scipy\n",
    "import scipy.linalg"
   ]
  },
  {
   "cell_type": "markdown",
   "metadata": {},
   "source": [
    "### Задание 1"
   ]
  },
  {
   "cell_type": "markdown",
   "metadata": {},
   "source": [
    "Решите линейную систему:\n",
    "\n",
    "$\\left(\n",
    "\\begin{array}{cccc}\n",
    "1 & 2 & 3\\\\\n",
    "4 & 0 & 6\\\\\n",
    "7 & 8 & 9\\end{array}\n",
    "\\right)\\cdot X = \\left(\\begin{array}{cccc}\n",
    "12\\\\2\\\\1\\end{array}\\right)\n",
    "$"
   ]
  },
  {
   "cell_type": "code",
   "execution_count": 2,
   "metadata": {},
   "outputs": [
    {
     "name": "stdout",
     "output_type": "stream",
     "text": [
      "59.999999999999986\n",
      "3\n",
      "[-9.2         0.9         6.46666667]\n"
     ]
    }
   ],
   "source": [
    "A = np.array([[1, 2, 3], [4, 0, 6], [7, 8, 9]])\n",
    "D = np.linalg.det(A)\n",
    "print(D)\n",
    "R = np.linalg.matrix_rank(A)\n",
    "print(R)\n",
    "B = np.array([12, 2, 1])\n",
    "X = np.linalg.solve(A, B)\n",
    "print(X)"
   ]
  },
  {
   "cell_type": "markdown",
   "metadata": {},
   "source": [
    "### Задание 2"
   ]
  },
  {
   "cell_type": "markdown",
   "metadata": {},
   "source": [
    "Найдите псевдорешение:\n",
    "\n",
    "$x + 2y - z = 1$\n",
    "\n",
    "$3x - 4y = 7$\n",
    "\n",
    "$8x - 5y + 2z = 12$\n",
    "\n",
    "$2x - 5z = 7$\n",
    "\n",
    "$11x + 4y - 7z = 15$"
   ]
  },
  {
   "cell_type": "code",
   "execution_count": 3,
   "metadata": {},
   "outputs": [
    {
     "name": "stdout",
     "output_type": "stream",
     "text": [
      "[ 1.13919353 -0.90498444 -0.9009803 ]\n",
      "[ 0.23020495  7.03751834 11.83650981  6.78328855 15.21805313]\n",
      "[-0.76979505  0.03751834 -0.16349019 -0.21671145  0.21805313]\n"
     ]
    }
   ],
   "source": [
    "A = np.array([[1, 2, -1], [3, -4, 0], [8, -5, 2], [2, 0, -5], [11, 4, -7]])\n",
    "B = np.array([1, 7, 12, 7, 15])\n",
    "# Решение\n",
    "result = np.linalg.lstsq(A, B, rcond=None)[0]\n",
    "print(result)\n",
    "# Проверка\n",
    "print(np.dot(A,result))\n",
    "# Первое значение очень сильно отличается от исходного.\n",
    "# Невязка\n",
    "print(np.dot(A,result) - B)"
   ]
  },
  {
   "cell_type": "markdown",
   "metadata": {},
   "source": [
    "### Задание 3"
   ]
  },
  {
   "cell_type": "markdown",
   "metadata": {},
   "source": [
    "Сколько решений имеет линейная система:\n",
    "\n",
    "$\\left(\n",
    "\\begin{array}{cccc}\n",
    "1 & 2 & 3\\\\\n",
    "4 & 5 & 6\\\\\n",
    "7 & 8 & 9\\end{array}\n",
    "\\right)\\cdot X = \\left(\\begin{array}{cccc}\n",
    "12\\\\2\\\\1\\end{array}\\right)\n",
    "$\n",
    "\n",
    "Если ноль – то измените вектор правой части так, чтобы система стала совместной, и решите ее. \n"
   ]
  },
  {
   "cell_type": "code",
   "execution_count": 4,
   "metadata": {},
   "outputs": [
    {
     "name": "stdout",
     "output_type": "stream",
     "text": [
      "-9.51619735392994e-16\n",
      "2\n",
      "[ 2.83726777e+16 -5.67453553e+16  2.83726777e+16]\n"
     ]
    }
   ],
   "source": [
    "A = np.array([[1, 2, 3], [4, 5, 6], [7, 8, 9]])\n",
    "D = np.linalg.det(A)\n",
    "print(D)\n",
    "R = np.linalg.matrix_rank(A)\n",
    "print(R)\n",
    "B = np.array([12, 2, 1])\n",
    "X = np.linalg.solve(A, B)\n",
    "print(X)"
   ]
  },
  {
   "cell_type": "markdown",
   "metadata": {},
   "source": [
    "Системы вырожденная, решение тривиальное."
   ]
  },
  {
   "cell_type": "code",
   "execution_count": 5,
   "metadata": {},
   "outputs": [
    {
     "name": "stdout",
     "output_type": "stream",
     "text": [
      "[[ 1  2  3 12]\n",
      " [ 4  5  6  2]\n",
      " [ 7  8  9  1]]\n",
      "3\n"
     ]
    }
   ],
   "source": [
    "BB = np.array([B])\n",
    "C = np.concatenate((A, BB.T), axis=1)\n",
    "print(C)\n",
    "R = np.linalg.matrix_rank(C)\n",
    "print(R)"
   ]
  },
  {
   "cell_type": "markdown",
   "metadata": {},
   "source": [
    "Ранг исходной матрицы (2) и ранг расширенной матрицы (3) не совпадают, следовательно система не совместна."
   ]
  },
  {
   "cell_type": "code",
   "execution_count": 6,
   "metadata": {},
   "outputs": [
    {
     "name": "stdout",
     "output_type": "stream",
     "text": [
      "[[1 2 3 1]\n",
      " [4 5 6 4]\n",
      " [7 8 9 7]]\n",
      "2\n",
      "[-0.225  2.45  -1.225]\n"
     ]
    }
   ],
   "source": [
    "B = np.array([1, 4, 7])\n",
    "BB = np.array([B])\n",
    "C = np.concatenate((A, BB.T), axis=1)\n",
    "print(C)\n",
    "R = np.linalg.matrix_rank(C)\n",
    "print(R)\n",
    "X = np.linalg.solve(A, B)\n",
    "print(X)"
   ]
  },
  {
   "cell_type": "markdown",
   "metadata": {},
   "source": [
    "### Задание 4"
   ]
  },
  {
   "cell_type": "markdown",
   "metadata": {},
   "source": [
    "Вычислите LU-разложение матрицы:\n",
    "\n",
    "$\\left(\n",
    "\\begin{array}{cccc}\n",
    "1 & 2 & 3\\\\\n",
    "2 & 16 & 21\\\\\n",
    "4 & 28 & 73\\end{array}\n",
    "\\right)$\n",
    "\n",
    "После этого придумайте вектор правых частей и решите полученную линейную систему трех уравнений с данной матрицей."
   ]
  },
  {
   "cell_type": "code",
   "execution_count": 7,
   "metadata": {},
   "outputs": [
    {
     "name": "stdout",
     "output_type": "stream",
     "text": [
      "432.00000000000017\n",
      "3\n",
      "[[0. 1. 0.]\n",
      " [0. 0. 1.]\n",
      " [1. 0. 0.]]\n",
      "[[ 1.    0.    0.  ]\n",
      " [ 0.25  1.    0.  ]\n",
      " [ 0.5  -0.4   1.  ]]\n",
      "[[  4.    28.    73.  ]\n",
      " [  0.    -5.   -15.25]\n",
      " [  0.     0.   -21.6 ]]\n"
     ]
    }
   ],
   "source": [
    "A = np.array([[1, 2, 3], [2, 16, 21], [4, 28, 73]])\n",
    "D = np.linalg.det(A)\n",
    "print(D)\n",
    "R = np.linalg.matrix_rank(A)\n",
    "print(R)\n",
    "P, L, U = scipy.linalg.lu(A)\n",
    "print(P)\n",
    "print(L)\n",
    "print(U)"
   ]
  },
  {
   "cell_type": "code",
   "execution_count": 8,
   "metadata": {},
   "outputs": [
    {
     "name": "stdout",
     "output_type": "stream",
     "text": [
      "[ 1.01388889  0.03472222 -0.02777778]\n"
     ]
    }
   ],
   "source": [
    "B = np.array([1, 2, 3])\n",
    "result = np.linalg.solve(A, B)\n",
    "print(result)"
   ]
  },
  {
   "cell_type": "markdown",
   "metadata": {},
   "source": [
    "### Задание 5"
   ]
  },
  {
   "cell_type": "markdown",
   "metadata": {},
   "source": [
    "Найдите нормальное псевдорешение недоопределенной системы:\n",
    "\n",
    "$x + 2y - z = 1$\n",
    "\n",
    "$8x - 5y + 2z = 12$\n",
    "\n",
    "Для этого определите функцию Q(x,y,z), равную норме решения, и найдите ее минимум."
   ]
  },
  {
   "cell_type": "code",
   "execution_count": 9,
   "metadata": {},
   "outputs": [
    {
     "name": "stdout",
     "output_type": "stream",
     "text": [
      "[[ 1  2 -1]\n",
      " [ 8 -5  2]]\n",
      "[[-0.12403473 -0.99227788]\n",
      " [-0.99227788  0.12403473]]\n",
      "[[-8.06225775  4.71331991 -1.86052102]\n",
      " [ 0.         -2.60472943  1.24034735]]\n",
      "[[-8.06225775  4.71331991]\n",
      " [ 0.         -2.60472943]]\n",
      "[-12.03136926   0.49613894]\n",
      "[ 1.38095238 -0.19047619]\n",
      "[ 1.38095238 -0.19047619  0.        ]\n",
      "1.3940267779337572\n",
      "1.5543122344752192e-15\n"
     ]
    }
   ],
   "source": [
    "A = np.array([[1, 2, -1], [8, -5, 2]])\n",
    "B = np.array([1, 12])\n",
    "Q, R = np.linalg.qr(A)\n",
    "print(A)\n",
    "print(Q)\n",
    "print(R)\n",
    "R1 = R[:2, :2]\n",
    "print(R1)\n",
    "B1 = np.dot(np.transpose(Q), B)[:2]\n",
    "print(B1)\n",
    "X1 = np.linalg.solve(R1, B1)\n",
    "print(X1)\n",
    "X = np.append(X1, 0)\n",
    "print(X)\n",
    "print(np.linalg.norm(X))\n",
    "print(np.linalg.norm(np.dot(A, X) - B))"
   ]
  },
  {
   "cell_type": "markdown",
   "metadata": {},
   "source": [
    "### Задание 6"
   ]
  },
  {
   "cell_type": "markdown",
   "metadata": {},
   "source": [
    "Найдите одно из псевдорешений вырожденной системы:\n",
    "\n",
    "$\\left(\n",
    "\\begin{array}{cccc}\n",
    "1 & 2 & 3\\\\\n",
    "4 & 5 & 6\\\\\n",
    "7 & 8 & 9\\end{array}\n",
    "\\right)\\cdot X = \\left(\\begin{array}{cccc}\n",
    "2\\\\5\\\\11\\end{array}\\right)\n",
    "$\n",
    "\n",
    "Попробуйте также отыскать и нормальное псевдорешение."
   ]
  },
  {
   "cell_type": "code",
   "execution_count": 10,
   "metadata": {},
   "outputs": [
    {
     "name": "stdout",
     "output_type": "stream",
     "text": [
      "[ 9.45755922e+15 -1.89151184e+16  9.45755922e+15]\n",
      "[[1 2 3]\n",
      " [4 5 6]\n",
      " [7 8 9]]\n",
      "[[-0.12309149  0.90453403  0.40824829]\n",
      " [-0.49236596  0.30151134 -0.81649658]\n",
      " [-0.86164044 -0.30151134  0.40824829]]\n",
      "[[-8.12403840e+00 -9.60113630e+00 -1.10782342e+01]\n",
      " [ 0.00000000e+00  9.04534034e-01  1.80906807e+00]\n",
      " [ 0.00000000e+00  0.00000000e+00 -1.11164740e-15]]\n",
      "[[-8.1240384  -9.6011363 ]\n",
      " [ 0.          0.90453403]]\n",
      "[-1.21860576e+01  8.54871729e-15]\n",
      "[1.50000000e+00 9.45096256e-15]\n",
      "[1.50000000e+00 9.45096256e-15 0.00000000e+00]\n",
      "1.4999999999999893\n",
      "1.2247448713915885\n"
     ]
    }
   ],
   "source": [
    "A = np.array([[1, 2, 3], [4, 5, 6], [7, 8, 9]])\n",
    "B = np.array([2, 5, 11])\n",
    "X = np.linalg.solve(A, B)\n",
    "print(X)\n",
    "Q, R = np.linalg.qr(A)\n",
    "print(A)\n",
    "print(Q)\n",
    "print(R)\n",
    "R1 = R[:2, :2]\n",
    "print(R1)\n",
    "B1 = np.dot(np.transpose(Q), B)[:2]\n",
    "print(B1)\n",
    "X1 = np.linalg.solve(R1, B1)\n",
    "print(X1)\n",
    "X = np.append(X1, 0)\n",
    "print(X)\n",
    "print(np.linalg.norm(X))\n",
    "print(np.linalg.norm(np.dot(A, X) - B))"
   ]
  }
 ],
 "metadata": {
  "kernelspec": {
   "display_name": "Python 3",
   "language": "python",
   "name": "python3"
  },
  "language_info": {
   "codemirror_mode": {
    "name": "ipython",
    "version": 3
   },
   "file_extension": ".py",
   "mimetype": "text/x-python",
   "name": "python",
   "nbconvert_exporter": "python",
   "pygments_lexer": "ipython3",
   "version": "3.6.5"
  }
 },
 "nbformat": 4,
 "nbformat_minor": 2
}
