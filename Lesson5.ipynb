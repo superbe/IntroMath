{
 "cells": [
  {
   "cell_type": "markdown",
   "metadata": {},
   "source": [
    "# Домашнее задине по уроку 5"
   ]
  },
  {
   "cell_type": "markdown",
   "metadata": {},
   "source": [
    "## Тема “Элементы теории вероятностей”"
   ]
  },
  {
   "cell_type": "code",
   "execution_count": 1,
   "metadata": {},
   "outputs": [],
   "source": [
    "%matplotlib inline\n",
    "import numpy as np\n",
    "import matplotlib.pyplot as plt\n",
    "import matplotlib.mlab as mlab\n",
    "import itertools\n",
    "import math"
   ]
  },
  {
   "cell_type": "markdown",
   "metadata": {},
   "source": [
    "### Задание 1"
   ]
  },
  {
   "cell_type": "markdown",
   "metadata": {},
   "source": [
    "Напишите код, моделирующий выпадение поля в рулетке (с учетом поля зеро)."
   ]
  },
  {
   "cell_type": "markdown",
   "metadata": {},
   "source": [
    "<img src=\"roulette_wheel.png\" alt=\"Drawing\">"
   ]
  },
  {
   "cell_type": "code",
   "execution_count": 2,
   "metadata": {},
   "outputs": [
    {
     "name": "stdout",
     "output_type": "stream",
     "text": [
      "\n",
      "4 черное\n",
      "\n",
      "2 черное\n",
      "\n",
      "20 черное\n",
      "\n",
      "28 черное\n",
      "\n",
      "22 черное\n"
     ]
    }
   ],
   "source": [
    "red = [32,19,21,25,34,27,36,30,23,5,16,1,14,9,18,7,12,3]\n",
    "for i in range(0, 5):\n",
    "    a = input()\n",
    "    x = np.random.randint(0, 37)\n",
    "    if x == 0:\n",
    "        print(\"Zero\")\n",
    "    else:\n",
    "        if x in red:\n",
    "            print(x, 'красное')\n",
    "        else:\n",
    "            print(x, 'черное')"
   ]
  },
  {
   "cell_type": "markdown",
   "metadata": {},
   "source": [
    "### Задание 2"
   ]
  },
  {
   "cell_type": "markdown",
   "metadata": {},
   "source": [
    "1. Напишите код, проверяющий любую из теорем сложения или умножения вероятности на примере рулетки или подбрасывания монетки.\n",
    "2. Сгенерируйте десять выборок случайных чисел х0, …, х9 и постройте гистограмму распределения случайной суммы х0+х1+ …+ х9."
   ]
  },
  {
   "cell_type": "markdown",
   "metadata": {},
   "source": [
    "Вероятность выпадения числа в рулетке равна 1/37, следовательно вероятность выпадение двух чисел будет 1/37 + 1/37 = 2/37 ≈ 0.05405405405."
   ]
  },
  {
   "cell_type": "markdown",
   "metadata": {},
   "source": [
    "Пусть это будут числа 5 и 6. "
   ]
  },
  {
   "cell_type": "code",
   "execution_count": 3,
   "metadata": {},
   "outputs": [
    {
     "name": "stdout",
     "output_type": "stream",
     "text": [
      "0.05401\n"
     ]
    }
   ],
   "source": [
    "result = 0\n",
    "for i in range(100000):\n",
    "    x = np.random.randint(0, 37)\n",
    "    if x == 5 or x == 6:\n",
    "        result += 1\n",
    "print(result/100000)"
   ]
  },
  {
   "cell_type": "markdown",
   "metadata": {},
   "source": [
    "0.05401 ≈ 0.05405"
   ]
  },
  {
   "cell_type": "code",
   "execution_count": 4,
   "metadata": {},
   "outputs": [
    {
     "data": {
      "text/plain": [
       "Text(0.5,1,'Histogram')"
      ]
     },
     "execution_count": 4,
     "metadata": {},
     "output_type": "execute_result"
    },
    {
     "data": {
      "image/png": "[encoded data removed]",
      "text/plain": [
       "<Figure size 432x288 with 1 Axes>"
      ]
     },
     "metadata": {},
     "output_type": "display_data"
    }
   ],
   "source": [
    "data = [0 for i in range(10)]\n",
    "for i in range(10):\n",
    "    k = 0\n",
    "    for j in range(10):\n",
    "        k += np.random.uniform(0, 10)\n",
    "    data[i] = k\n",
    "    \n",
    "num_bins = 4\n",
    "n, bins, patches = plt.hist(data, num_bins)\n",
    "plt.xlabel('data')\n",
    "plt.ylabel('Probability')\n",
    "plt.title('Histogram')"
   ]
  },
  {
   "cell_type": "markdown",
   "metadata": {},
   "source": [
    "### Задание 3"
   ]
  },
  {
   "cell_type": "markdown",
   "metadata": {},
   "source": [
    "1. Дополните код Монте-Карло последовательности независимых испытаний расчетом соответствующих вероятностей (через биномиальное распределение) \n",
    "и сравните результаты.\n",
    "2. Повторите расчеты биномиальных коэффициентов и вероятностей k успехов в последовательности из n независимых испытаний, взяв другие значения n и k."
   ]
  },
  {
   "cell_type": "markdown",
   "metadata": {},
   "source": [
    "Метод Монте-Карло"
   ]
  },
  {
   "cell_type": "code",
   "execution_count": 5,
   "metadata": {},
   "outputs": [
    {
     "name": "stdout",
     "output_type": "stream",
     "text": [
      "36 100 0.36\n"
     ]
    }
   ],
   "source": [
    "k, n = 0, 100\n",
    "a = np.random.randint(0, 2, n)\n",
    "b = np.random.randint(0, 2, n)\n",
    "c = np.random.randint(0, 2, n)\n",
    "d = np.random.randint(0, 2, n)\n",
    "x = a + b + c + d\n",
    "for i in range(0, n):\n",
    "    if x[i] == 2:\n",
    "        k = k + 1\n",
    "#print(a, b, c, d)\n",
    "#print(x)\n",
    "print(k, n, k/n)"
   ]
  },
  {
   "cell_type": "code",
   "execution_count": 6,
   "metadata": {},
   "outputs": [],
   "source": [
    "def factorial(n):\n",
    "    result = 1\n",
    "    for i in range(1, n + 1):\n",
    "        result *= i\n",
    "    return result"
   ]
  },
  {
   "cell_type": "code",
   "execution_count": 7,
   "metadata": {},
   "outputs": [],
   "source": [
    "p = 1\n",
    "q = 0"
   ]
  },
  {
   "cell_type": "code",
   "execution_count": 8,
   "metadata": {},
   "outputs": [
    {
     "data": {
      "text/plain": [
       "(6.0, 0.0)"
      ]
     },
     "execution_count": 8,
     "metadata": {},
     "output_type": "execute_result"
    }
   ],
   "source": [
    "N = 4\n",
    "K = 2\n",
    "Ckn = factorial(N) / factorial(K) / factorial(N - K)\n",
    "P = Ckn * p**k * q**(n - k)\n",
    "Ckn, P"
   ]
  },
  {
   "cell_type": "code",
   "execution_count": 9,
   "metadata": {},
   "outputs": [
    {
     "data": {
      "text/plain": [
       "(495.0, 0.0)"
      ]
     },
     "execution_count": 9,
     "metadata": {},
     "output_type": "execute_result"
    }
   ],
   "source": [
    "N = 12\n",
    "K = 4\n",
    "Ckn = factorial(N) / factorial(K) / factorial(N - K)\n",
    "P = Ckn * p**k * q**(n - k)\n",
    "Ckn, P"
   ]
  },
  {
   "cell_type": "markdown",
   "metadata": {},
   "source": [
    "### Задание 4"
   ]
  },
  {
   "cell_type": "markdown",
   "metadata": {},
   "source": [
    "Из урока по комбинаторике повторите расчеты, сгенерировав возможные варианты перестановок для других значений n и k"
   ]
  },
  {
   "cell_type": "code",
   "execution_count": 10,
   "metadata": {},
   "outputs": [
    {
     "name": "stdout",
     "output_type": "stream",
     "text": [
      "0123\n",
      "0124\n",
      "0125\n",
      "0132\n",
      "0134\n",
      "0135\n",
      "0142\n",
      "0143\n",
      "0145\n",
      "0152\n",
      "0153\n",
      "0154\n",
      "0213\n",
      "0214\n",
      "0215\n",
      "0231\n",
      "0234\n",
      "0235\n",
      "0241\n",
      "0243\n",
      "0245\n",
      "0251\n",
      "0253\n",
      "0254\n",
      "0312\n",
      "0314\n",
      "0315\n",
      "0321\n",
      "0324\n",
      "0325\n",
      "0341\n",
      "0342\n",
      "0345\n",
      "0351\n",
      "0352\n",
      "0354\n",
      "0412\n",
      "0413\n",
      "0415\n",
      "0421\n",
      "0423\n",
      "0425\n",
      "0431\n",
      "0432\n",
      "0435\n",
      "0451\n",
      "0452\n",
      "0453\n",
      "0512\n",
      "0513\n",
      "0514\n",
      "0521\n",
      "0523\n",
      "0524\n",
      "0531\n",
      "0532\n",
      "0534\n",
      "0541\n",
      "0542\n",
      "0543\n",
      "1023\n",
      "1024\n",
      "1025\n",
      "1032\n",
      "1034\n",
      "1035\n",
      "1042\n",
      "1043\n",
      "1045\n",
      "1052\n",
      "1053\n",
      "1054\n",
      "1203\n",
      "1204\n",
      "1205\n",
      "1230\n",
      "1234\n",
      "1235\n",
      "1240\n",
      "1243\n",
      "1245\n",
      "1250\n",
      "1253\n",
      "1254\n",
      "1302\n",
      "1304\n",
      "1305\n",
      "1320\n",
      "1324\n",
      "1325\n",
      "1340\n",
      "1342\n",
      "1345\n",
      "1350\n",
      "1352\n",
      "1354\n",
      "1402\n",
      "1403\n",
      "1405\n",
      "1420\n",
      "1423\n",
      "1425\n",
      "1430\n",
      "1432\n",
      "1435\n",
      "1450\n",
      "1452\n",
      "1453\n",
      "1502\n",
      "1503\n",
      "1504\n",
      "1520\n",
      "1523\n",
      "1524\n",
      "1530\n",
      "1532\n",
      "1534\n",
      "1540\n",
      "1542\n",
      "1543\n",
      "2013\n",
      "2014\n",
      "2015\n",
      "2031\n",
      "2034\n",
      "2035\n",
      "2041\n",
      "2043\n",
      "2045\n",
      "2051\n",
      "2053\n",
      "2054\n",
      "2103\n",
      "2104\n",
      "2105\n",
      "2130\n",
      "2134\n",
      "2135\n",
      "2140\n",
      "2143\n",
      "2145\n",
      "2150\n",
      "2153\n",
      "2154\n",
      "2301\n",
      "2304\n",
      "2305\n",
      "2310\n",
      "2314\n",
      "2315\n",
      "2340\n",
      "2341\n",
      "2345\n",
      "2350\n",
      "2351\n",
      "2354\n",
      "2401\n",
      "2403\n",
      "2405\n",
      "2410\n",
      "2413\n",
      "2415\n",
      "2430\n",
      "2431\n",
      "2435\n",
      "2450\n",
      "2451\n",
      "2453\n",
      "2501\n",
      "2503\n",
      "2504\n",
      "2510\n",
      "2513\n",
      "2514\n",
      "2530\n",
      "2531\n",
      "2534\n",
      "2540\n",
      "2541\n",
      "2543\n",
      "3012\n",
      "3014\n",
      "3015\n",
      "3021\n",
      "3024\n",
      "3025\n",
      "3041\n",
      "3042\n",
      "3045\n",
      "3051\n",
      "3052\n",
      "3054\n",
      "3102\n",
      "3104\n",
      "3105\n",
      "3120\n",
      "3124\n",
      "3125\n",
      "3140\n",
      "3142\n",
      "3145\n",
      "3150\n",
      "3152\n",
      "3154\n",
      "3201\n",
      "3204\n",
      "3205\n",
      "3210\n",
      "3214\n",
      "3215\n",
      "3240\n",
      "3241\n",
      "3245\n",
      "3250\n",
      "3251\n",
      "3254\n",
      "3401\n",
      "3402\n",
      "3405\n",
      "3410\n",
      "3412\n",
      "3415\n",
      "3420\n",
      "3421\n",
      "3425\n",
      "3450\n",
      "3451\n",
      "3452\n",
      "3501\n",
      "3502\n",
      "3504\n",
      "3510\n",
      "3512\n",
      "3514\n",
      "3520\n",
      "3521\n",
      "3524\n",
      "3540\n",
      "3541\n",
      "3542\n",
      "4012\n",
      "4013\n",
      "4015\n",
      "4021\n",
      "4023\n",
      "4025\n",
      "4031\n",
      "4032\n",
      "4035\n",
      "4051\n",
      "4052\n",
      "4053\n",
      "4102\n",
      "4103\n",
      "4105\n",
      "4120\n",
      "4123\n",
      "4125\n",
      "4130\n",
      "4132\n",
      "4135\n",
      "4150\n",
      "4152\n",
      "4153\n",
      "4201\n",
      "4203\n",
      "4205\n",
      "4210\n",
      "4213\n",
      "4215\n",
      "4230\n",
      "4231\n",
      "4235\n",
      "4250\n",
      "4251\n",
      "4253\n",
      "4301\n",
      "4302\n",
      "4305\n",
      "4310\n",
      "4312\n",
      "4315\n",
      "4320\n",
      "4321\n",
      "4325\n",
      "4350\n",
      "4351\n",
      "4352\n",
      "4501\n",
      "4502\n",
      "4503\n",
      "4510\n",
      "4512\n",
      "4513\n",
      "4520\n",
      "4521\n",
      "4523\n",
      "4530\n",
      "4531\n",
      "4532\n",
      "5012\n",
      "5013\n",
      "5014\n",
      "5021\n",
      "5023\n",
      "5024\n",
      "5031\n",
      "5032\n",
      "5034\n",
      "5041\n",
      "5042\n",
      "5043\n",
      "5102\n",
      "5103\n",
      "5104\n",
      "5120\n",
      "5123\n",
      "5124\n",
      "5130\n",
      "5132\n",
      "5134\n",
      "5140\n",
      "5142\n",
      "5143\n",
      "5201\n",
      "5203\n",
      "5204\n",
      "5210\n",
      "5213\n",
      "5214\n",
      "5230\n",
      "5231\n",
      "5234\n",
      "5240\n",
      "5241\n",
      "5243\n",
      "5301\n",
      "5302\n",
      "5304\n",
      "5310\n",
      "5312\n",
      "5314\n",
      "5320\n",
      "5321\n",
      "5324\n",
      "5340\n",
      "5341\n",
      "5342\n",
      "5401\n",
      "5402\n",
      "5403\n",
      "5410\n",
      "5412\n",
      "5413\n",
      "5420\n",
      "5421\n",
      "5423\n",
      "5430\n",
      "5431\n",
      "5432\n"
     ]
    }
   ],
   "source": [
    "for p in itertools.permutations(\"012345\",4):\n",
    "    print(''.join(str(x) for x in p))"
   ]
  },
  {
   "cell_type": "markdown",
   "metadata": {},
   "source": [
    "### Задание 5"
   ]
  },
  {
   "cell_type": "markdown",
   "metadata": {},
   "source": [
    "Дополните код расчетом коэффициента корреляции x и y по формуле\n",
    "<img src=\"formula.png\" alt=\"Drawing\">"
   ]
  },
  {
   "cell_type": "code",
   "execution_count": 11,
   "metadata": {},
   "outputs": [],
   "source": [
    "n = 1000\n",
    "r = 0.7\n",
    "x = np.random.rand(n)\n",
    "y = r*x + (1 - r)*np.random.rand(n)"
   ]
  },
  {
   "cell_type": "code",
   "execution_count": 12,
   "metadata": {},
   "outputs": [],
   "source": [
    "def average(value):\n",
    "    result = 0\n",
    "    for i in range(len(value)):\n",
    "        result += value[i]\n",
    "    return result / len(value)"
   ]
  },
  {
   "cell_type": "code",
   "execution_count": 13,
   "metadata": {},
   "outputs": [],
   "source": [
    "def correlation(first, second):\n",
    "    first_m = average(first)\n",
    "    second_m = average(second)\n",
    "    R_1 = 0\n",
    "    R_2 = 0\n",
    "    R_3 = 0\n",
    "    for i in range(len(first)):\n",
    "        R_1 += (first[i] - first_m) * (second[i] - second_m)\n",
    "        R_2 += (first[i] - first_m)**2\n",
    "        R_3 += (second[i] - second_m)**2\n",
    "    return R_1 / math.sqrt(R_2 * R_3)"
   ]
  },
  {
   "cell_type": "code",
   "execution_count": 14,
   "metadata": {},
   "outputs": [
    {
     "data": {
      "text/plain": [
       "0.9177435213530862"
      ]
     },
     "execution_count": 14,
     "metadata": {},
     "output_type": "execute_result"
    }
   ],
   "source": [
    "correlation(x, y)"
   ]
  }
 ],
 "metadata": {
  "kernelspec": {
   "display_name": "Python 3",
   "language": "python",
   "name": "python3"
  },
  "language_info": {
   "codemirror_mode": {
    "name": "ipython",
    "version": 3
   },
   "file_extension": ".py",
   "mimetype": "text/x-python",
   "name": "python",
   "nbconvert_exporter": "python",
   "pygments_lexer": "ipython3",
   "version": "3.6.5"
  }
 },
 "nbformat": 4,
 "nbformat_minor": 2
}
